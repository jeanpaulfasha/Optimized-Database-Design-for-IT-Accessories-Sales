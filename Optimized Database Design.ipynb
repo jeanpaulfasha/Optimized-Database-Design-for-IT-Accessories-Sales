{
 "cells": [
  {
   "cell_type": "markdown",
   "id": "a25b515c-59c6-4909-a7d3-5ecc60a5a470",
   "metadata": {},
   "source": [
    "## Introduction\n",
    "##### To ensure optimal support for informed business decisions, it is imperative to design a robust database schema that facilitates seamless querying of information. In this exercise, you will assist a company that sells IT accessories in organizing their data effectively, thereby contributing to enhancing their decision-making processes."
   ]
  },
  {
   "cell_type": "code",
   "execution_count": 1,
   "id": "a5b9bd1c-7bb8-4d04-8035-897b06586534",
   "metadata": {},
   "outputs": [],
   "source": [
    "#Import Libraries\n",
    "import sqlite3\n",
    "import pandas as pd"
   ]
  },
  {
   "cell_type": "markdown",
   "id": "acf2048e-b169-4c34-af1a-d17dda989733",
   "metadata": {},
   "source": [
    "### Help function"
   ]
  },
  {
   "cell_type": "code",
   "execution_count": 2,
   "id": "7af61579-6029-4a18-8f91-d41eb4b0dc94",
   "metadata": {},
   "outputs": [],
   "source": [
    "db= \"sales.db\"\n",
    "\n",
    "#Run queries on database\n",
    "def run_query(my_query):\n",
    "    with sqlite3.connect(db) as conn:\n",
    "        return pd.read_sql(my_query, conn)\n",
    "\n",
    "#Execute queries on database\n",
    "def run_command(my_command):\n",
    "    with sqlite3.connect(db) as conn:\n",
    "        conn.isolation_level= None\n",
    "        conn.execute(my_command)\n",
    "    print(\"✔️ SUCCESS\")\n",
    "    \n",
    "#Insert a dataframe into a table\n",
    "def insert_dataframe(df, table_name):\n",
    "    with sqlite3.connect(db) as conn:\n",
    "        table_columns= run_query(f\"SELECT * FROM {table_name} LIMIT 0\").columns\n",
    "        for col in table_columns:\n",
    "            if col not in df.columns:\n",
    "                df[col]= None\n",
    "        df_filtered= df[table_columns]\n",
    "        df_filtered.to_sql(table_name, conn, if_exists=\"append\", index=False)\n",
    "        print(f\"✔️Data Successfully inserted into {table_name}\")"
   ]
  },
  {
   "cell_type": "markdown",
   "id": "1eaa5fb7-f6d3-4190-bd02-22c9ff0199f4",
   "metadata": {},
   "source": [
    "### Load CSV Files into DataFrames"
   ]
  },
  {
   "cell_type": "code",
   "execution_count": 3,
   "id": "e4da7cd7-f109-45f1-acb9-ddef756582f4",
   "metadata": {},
   "outputs": [
    {
     "data": {
      "text/html": [
       "<div>\n",
       "<style scoped>\n",
       "    .dataframe tbody tr th:only-of-type {\n",
       "        vertical-align: middle;\n",
       "    }\n",
       "\n",
       "    .dataframe tbody tr th {\n",
       "        vertical-align: top;\n",
       "    }\n",
       "\n",
       "    .dataframe thead th {\n",
       "        text-align: right;\n",
       "    }\n",
       "</style>\n",
       "<table border=\"1\" class=\"dataframe\">\n",
       "  <thead>\n",
       "    <tr style=\"text-align: right;\">\n",
       "      <th></th>\n",
       "      <th>first_name</th>\n",
       "      <th>last_name</th>\n",
       "      <th>country</th>\n",
       "      <th>phone_number</th>\n",
       "      <th>sales_contact_code</th>\n",
       "    </tr>\n",
       "  </thead>\n",
       "  <tbody>\n",
       "    <tr>\n",
       "      <th>0</th>\n",
       "      <td>Anita</td>\n",
       "      <td>Ruiz</td>\n",
       "      <td>Canada</td>\n",
       "      <td>250766666657</td>\n",
       "      <td>3</td>\n",
       "    </tr>\n",
       "  </tbody>\n",
       "</table>\n",
       "</div>"
      ],
      "text/plain": [
       "  first_name last_name country  phone_number  sales_contact_code\n",
       "0      Anita      Ruiz  Canada  250766666657                   3"
      ]
     },
     "execution_count": 3,
     "metadata": {},
     "output_type": "execute_result"
    }
   ],
   "source": [
    "customers= pd.read_csv(\"C:/Users/Jean Paul/Desktop/Mine/Data Science/Exercises/Datasets/customers.csv\")\n",
    "customers.head(1)"
   ]
  },
  {
   "cell_type": "code",
   "execution_count": 4,
   "id": "6f9a7c02-9c52-40c0-a2cb-a9b92c149c14",
   "metadata": {},
   "outputs": [
    {
     "data": {
      "text/html": [
       "<div>\n",
       "<style scoped>\n",
       "    .dataframe tbody tr th:only-of-type {\n",
       "        vertical-align: middle;\n",
       "    }\n",
       "\n",
       "    .dataframe tbody tr th {\n",
       "        vertical-align: top;\n",
       "    }\n",
       "\n",
       "    .dataframe thead th {\n",
       "        text-align: right;\n",
       "    }\n",
       "</style>\n",
       "<table border=\"1\" class=\"dataframe\">\n",
       "  <thead>\n",
       "    <tr style=\"text-align: right;\">\n",
       "      <th></th>\n",
       "      <th>employee_number</th>\n",
       "      <th>last_name</th>\n",
       "      <th>first_name</th>\n",
       "      <th>line_manager</th>\n",
       "      <th>title</th>\n",
       "    </tr>\n",
       "  </thead>\n",
       "  <tbody>\n",
       "    <tr>\n",
       "      <th>0</th>\n",
       "      <td>1</td>\n",
       "      <td>Ross</td>\n",
       "      <td>Shannon</td>\n",
       "      <td>NaN</td>\n",
       "      <td>General Manager</td>\n",
       "    </tr>\n",
       "  </tbody>\n",
       "</table>\n",
       "</div>"
      ],
      "text/plain": [
       "   employee_number last_name first_name  line_manager            title\n",
       "0                1      Ross    Shannon           NaN  General Manager"
      ]
     },
     "execution_count": 4,
     "metadata": {},
     "output_type": "execute_result"
    }
   ],
   "source": [
    "employees= pd.read_csv(\"C:/Users/Jean Paul/Desktop/Mine/Data Science/Exercises/Datasets/employees.csv\")\n",
    "employees.head(1)"
   ]
  },
  {
   "cell_type": "code",
   "execution_count": 5,
   "id": "8be444ac-2e97-435c-8aa4-0718d3e66302",
   "metadata": {},
   "outputs": [
    {
     "data": {
      "text/html": [
       "<div>\n",
       "<style scoped>\n",
       "    .dataframe tbody tr th:only-of-type {\n",
       "        vertical-align: middle;\n",
       "    }\n",
       "\n",
       "    .dataframe tbody tr th {\n",
       "        vertical-align: top;\n",
       "    }\n",
       "\n",
       "    .dataframe thead th {\n",
       "        text-align: right;\n",
       "    }\n",
       "</style>\n",
       "<table border=\"1\" class=\"dataframe\">\n",
       "  <thead>\n",
       "    <tr style=\"text-align: right;\">\n",
       "      <th></th>\n",
       "      <th>product_number</th>\n",
       "      <th>product_name</th>\n",
       "      <th>unit_price</th>\n",
       "    </tr>\n",
       "  </thead>\n",
       "  <tbody>\n",
       "    <tr>\n",
       "      <th>9</th>\n",
       "      <td>10</td>\n",
       "      <td>Wireless Keyboard</td>\n",
       "      <td>99</td>\n",
       "    </tr>\n",
       "  </tbody>\n",
       "</table>\n",
       "</div>"
      ],
      "text/plain": [
       "   product_number       product_name  unit_price\n",
       "9              10  Wireless Keyboard          99"
      ]
     },
     "execution_count": 5,
     "metadata": {},
     "output_type": "execute_result"
    }
   ],
   "source": [
    "products= pd.read_csv(\"C:/Users/Jean Paul/Desktop/Mine/Data Science/Exercises/Datasets/products.csv\")\n",
    "products.tail(1)"
   ]
  },
  {
   "cell_type": "code",
   "execution_count": 6,
   "id": "92fc983d-ba8c-492f-8383-f3a8736b6957",
   "metadata": {},
   "outputs": [
    {
     "data": {
      "text/html": [
       "<div>\n",
       "<style scoped>\n",
       "    .dataframe tbody tr th:only-of-type {\n",
       "        vertical-align: middle;\n",
       "    }\n",
       "\n",
       "    .dataframe tbody tr th {\n",
       "        vertical-align: top;\n",
       "    }\n",
       "\n",
       "    .dataframe thead th {\n",
       "        text-align: right;\n",
       "    }\n",
       "</style>\n",
       "<table border=\"1\" class=\"dataframe\">\n",
       "  <thead>\n",
       "    <tr style=\"text-align: right;\">\n",
       "      <th></th>\n",
       "      <th>invoice_number</th>\n",
       "      <th>invoice_date</th>\n",
       "      <th>billing_phone</th>\n",
       "      <th>total</th>\n",
       "    </tr>\n",
       "  </thead>\n",
       "  <tbody>\n",
       "    <tr>\n",
       "      <th>0</th>\n",
       "      <td>16</td>\n",
       "      <td>2021-09-10</td>\n",
       "      <td>250766666601</td>\n",
       "      <td>1980.0</td>\n",
       "    </tr>\n",
       "  </tbody>\n",
       "</table>\n",
       "</div>"
      ],
      "text/plain": [
       "   invoice_number invoice_date  billing_phone   total\n",
       "0              16   2021-09-10   250766666601  1980.0"
      ]
     },
     "execution_count": 6,
     "metadata": {},
     "output_type": "execute_result"
    }
   ],
   "source": [
    "invoices= pd.read_csv(\"C:/Users/Jean Paul/Desktop/Mine/Data Science/Exercises/Datasets/invoices.csv\")\n",
    "invoices.head(1)"
   ]
  },
  {
   "cell_type": "code",
   "execution_count": 7,
   "id": "5aa91f2f-6c84-4ef0-9b2b-f0d36fc1e514",
   "metadata": {},
   "outputs": [
    {
     "data": {
      "text/html": [
       "<div>\n",
       "<style scoped>\n",
       "    .dataframe tbody tr th:only-of-type {\n",
       "        vertical-align: middle;\n",
       "    }\n",
       "\n",
       "    .dataframe tbody tr th {\n",
       "        vertical-align: top;\n",
       "    }\n",
       "\n",
       "    .dataframe thead th {\n",
       "        text-align: right;\n",
       "    }\n",
       "</style>\n",
       "<table border=\"1\" class=\"dataframe\">\n",
       "  <thead>\n",
       "    <tr style=\"text-align: right;\">\n",
       "      <th></th>\n",
       "      <th>invoice_id</th>\n",
       "      <th>product_code</th>\n",
       "      <th>quantity</th>\n",
       "    </tr>\n",
       "  </thead>\n",
       "  <tbody>\n",
       "    <tr>\n",
       "      <th>0</th>\n",
       "      <td>1</td>\n",
       "      <td>7</td>\n",
       "      <td>1</td>\n",
       "    </tr>\n",
       "  </tbody>\n",
       "</table>\n",
       "</div>"
      ],
      "text/plain": [
       "   invoice_id  product_code  quantity\n",
       "0           1             7         1"
      ]
     },
     "execution_count": 7,
     "metadata": {},
     "output_type": "execute_result"
    }
   ],
   "source": [
    "invoice_items= pd.read_csv(\"C:/Users/Jean Paul/Desktop/Mine/Data Science/Exercises/Datasets/invoice_items.csv\")\n",
    "invoice_items.head(1)"
   ]
  },
  {
   "cell_type": "markdown",
   "id": "e83d02ab-3c67-496b-bf1d-f75d62679e72",
   "metadata": {},
   "source": [
    "## Question 1: Database Schema\n",
    "##### Could you kindly explore the provided flat files and propose a well-structred database schema? Emphasize ease of data retrieval and analysis, ensuring data integrity and storage efficiency."
   ]
  },
  {
   "cell_type": "code",
   "execution_count": 12,
   "id": "123dd386-d0a6-403d-8ceb-93de6f0d0194",
   "metadata": {},
   "outputs": [],
   "source": [
    "# Question 1: Database Schema\n",
    "# Defining SQL schema for creating tables\n",
    "\n",
    "customers_schema = \"\"\"\n",
    "CREATE TABLE IF NOT EXISTS Customers (\n",
    "    phone_number TEXT PRIMARY KEY,\n",
    "    first_name TEXT NOT NULL,\n",
    "    last_name TEXT NOT NULL,\n",
    "    country TEXT,\n",
    "    sales_contact_code INTEGER\n",
    ");\n",
    "\"\"\"\n",
    "\n",
    "employees_schema = \"\"\"\n",
    "CREATE TABLE IF NOT EXISTS Employees (\n",
    "    employee_id INTEGER PRIMARY KEY,\n",
    "    first_name TEXT NOT NULL,\n",
    "    last_name TEXT NOT NULL,\n",
    "    title TEXT,\n",
    "    manager_id INTEGER,\n",
    "    FOREIGN KEY(manager_id) REFERENCES Employees(employee_id)\n",
    ");\n",
    "\"\"\"\n",
    "\n",
    "products_schema = \"\"\"\n",
    "CREATE TABLE IF NOT EXISTS Products (\n",
    "    product_number INTEGER PRIMARY KEY,\n",
    "    product_name TEXT NOT NULL,\n",
    "    unit_price INTEGER NOT NULL\n",
    ");\n",
    "\"\"\"\n",
    "\n",
    "invoices_schema = \"\"\"\n",
    "CREATE TABLE IF NOT EXISTS Invoices (\n",
    "    invoice_number INTEGER PRIMARY KEY,\n",
    "    invoice_date DATE NOT NULL,\n",
    "    billing_phone TEXT NOT NULL,\n",
    "    total REAL NOT NULL,\n",
    "    FOREIGN KEY(billing_phone) REFERENCES Customers(phone_number)\n",
    ");\n",
    "\"\"\"\n",
    "\n",
    "invoice_items_schema = \"\"\"\n",
    "CREATE TABLE IF NOT EXISTS Invoice_Items (\n",
    "    invoice_id INTEGER NOT NULL,\n",
    "    product_code INTEGER NOT NULL,\n",
    "    quantity INTEGER NOT NULL,\n",
    "    PRIMARY KEY (invoice_id, product_code),\n",
    "    FOREIGN KEY(invoice_id) REFERENCES Invoices(invoice_number),\n",
    "    FOREIGN KEY(product_code) REFERENCES Products(product_number)\n",
    ");\n",
    "\"\"\""
   ]
  },
  {
   "cell_type": "markdown",
   "id": "26f21720-7017-4386-86cf-f676f4e81724",
   "metadata": {},
   "source": [
    "## Question 2: Create the tables into the database\n",
    "##### We are going to use the sqlite database engine that is built-in within python environment. You are required to use the appropriate provided helper function provided to create the tables as per ypur design schema. Write and execute necessary commands below."
   ]
  },
  {
   "cell_type": "code",
   "execution_count": 13,
   "id": "436aee9b-c290-4972-9c34-1a6c2d1fce42",
   "metadata": {},
   "outputs": [
    {
     "name": "stdout",
     "output_type": "stream",
     "text": [
      "✔️ SUCCESS\n",
      "✔️ SUCCESS\n",
      "✔️ SUCCESS\n",
      "✔️ SUCCESS\n",
      "✔️ SUCCESS\n",
      "✔️ All tables created successfully!\n"
     ]
    }
   ],
   "source": [
    "\n",
    "# Define the database name\n",
    "db = \"sales.db\"\n",
    "\n",
    "# NB: I used Helper functions for interacting with the SQLite database\n",
    "\n",
    "# NB: Create tables using the schema from Question 1\n",
    "\n",
    "# Create Customers table\n",
    "run_command(\"\"\"\n",
    "CREATE TABLE IF NOT EXISTS Customers (\n",
    "    phone_number TEXT PRIMARY KEY,\n",
    "    first_name TEXT NOT NULL,\n",
    "    last_name TEXT NOT NULL,\n",
    "    country TEXT,\n",
    "    sales_contact_code INTEGER\n",
    ");\n",
    "\"\"\")\n",
    "\n",
    "# Create Employees table\n",
    "run_command(\"\"\"\n",
    "CREATE TABLE IF NOT EXISTS Employees (\n",
    "    employee_id INTEGER PRIMARY KEY,\n",
    "    first_name TEXT NOT NULL,\n",
    "    last_name TEXT NOT NULL,\n",
    "    title TEXT,\n",
    "    manager_id INTEGER,\n",
    "    FOREIGN KEY(manager_id) REFERENCES Employees(employee_id)\n",
    ");\n",
    "\"\"\")\n",
    "\n",
    "# Create Products table\n",
    "run_command(\"\"\"\n",
    "CREATE TABLE IF NOT EXISTS Products (\n",
    "    product_number INTEGER PRIMARY KEY,\n",
    "    product_name TEXT NOT NULL,\n",
    "    unit_price INTEGER NOT NULL\n",
    ");\n",
    "\"\"\")\n",
    "\n",
    "# Create Invoices table\n",
    "run_command(\"\"\"\n",
    "CREATE TABLE IF NOT EXISTS Invoices (\n",
    "    invoice_number INTEGER PRIMARY KEY,\n",
    "    invoice_date DATE NOT NULL,\n",
    "    billing_phone TEXT NOT NULL,\n",
    "    total REAL NOT NULL,\n",
    "    FOREIGN KEY(billing_phone) REFERENCES Customers(phone_number)\n",
    ");\n",
    "\"\"\")\n",
    "\n",
    "# Create Invoice_Items table\n",
    "run_command(\"\"\"\n",
    "CREATE TABLE IF NOT EXISTS Invoice_Items (\n",
    "    invoice_id INTEGER NOT NULL,\n",
    "    product_code INTEGER NOT NULL,\n",
    "    quantity INTEGER NOT NULL,\n",
    "    PRIMARY KEY (invoice_id, product_code),\n",
    "    FOREIGN KEY(invoice_id) REFERENCES Invoices(invoice_number),\n",
    "    FOREIGN KEY(product_code) REFERENCES Products(product_number)\n",
    ");\n",
    "\"\"\")\n",
    "\n",
    "print(\"✔️ All tables created successfully!\")\n"
   ]
  },
  {
   "cell_type": "markdown",
   "id": "1db82b36-1891-4e93-aff4-0a2c6422bf88",
   "metadata": {},
   "source": [
    "### Checking the Column Mismatch: DataFrame Columns vs Table Columns in the Database\n",
    "##### example for: Customers"
   ]
  },
  {
   "cell_type": "code",
   "execution_count": 14,
   "id": "8bdb81f3-e17e-4811-9074-5209e0140985",
   "metadata": {},
   "outputs": [
    {
     "name": "stdout",
     "output_type": "stream",
     "text": [
      "Index(['first_name', 'last_name', 'country', 'phone_number',\n",
      "       'sales_contact_code'],\n",
      "      dtype='object')\n",
      "Index(['phone_number', 'first_name', 'last_name', 'country',\n",
      "       'sales_contact_code'],\n",
      "      dtype='object')\n"
     ]
    }
   ],
   "source": [
    "print(customers.columns)\n",
    "print(run_query(\"SELECT * FROM Customers LIMIT 0\").columns)"
   ]
  },
  {
   "cell_type": "markdown",
   "id": "4cf22e57-3f96-406e-b8c7-1257a51018d3",
   "metadata": {},
   "source": [
    "### Adjust DataFrame Columns to Match Table Columns"
   ]
  },
  {
   "cell_type": "code",
   "execution_count": 15,
   "id": "3ee61c1a-bc93-4061-949d-a183bde8baf7",
   "metadata": {},
   "outputs": [],
   "source": [
    "# Ensure DataFrame columns match table columns\n",
    "customers = customers[['first_name', 'last_name', 'country', 'phone_number', 'sales_contact_code']]\n",
    "employees = employees[['employee_number', 'last_name', 'first_name', 'line_manager', 'title']]\n",
    "products = products[['product_number', 'product_name', 'unit_price']]\n",
    "invoices = invoices[['invoice_number', 'invoice_date', 'billing_phone', 'total']]\n",
    "invoice_items = invoice_items[['invoice_id', 'product_code', 'quantity']]"
   ]
  },
  {
   "cell_type": "markdown",
   "id": "261eadfb-d909-41c2-85d6-d773bf7d400f",
   "metadata": {},
   "source": [
    "### Insert DataFrames into Database Tables"
   ]
  },
  {
   "cell_type": "code",
   "execution_count": 16,
   "id": "53c7ca58-9d6c-493b-a7a2-2380554775d8",
   "metadata": {},
   "outputs": [
    {
     "name": "stdout",
     "output_type": "stream",
     "text": [
      "✔️Data Successfully inserted into Customers\n",
      "✔️Data Successfully inserted into Employees\n",
      "✔️Data Successfully inserted into Products\n",
      "✔️Data Successfully inserted into Invoices\n",
      "✔️Data Successfully inserted into Invoice_Items\n"
     ]
    }
   ],
   "source": [
    "insert_dataframe(customers, \"Customers\")\n",
    "insert_dataframe(employees, \"Employees\")\n",
    "insert_dataframe(products, \"Products\")\n",
    "insert_dataframe(invoices, \"Invoices\")\n",
    "insert_dataframe(invoice_items, \"Invoice_Items\")"
   ]
  },
  {
   "cell_type": "markdown",
   "id": "6d2607b4-94e3-429a-bafc-a6bba376463a",
   "metadata": {},
   "source": [
    "### Make query to verify if data are database"
   ]
  },
  {
   "cell_type": "code",
   "execution_count": 17,
   "id": "208e72ff-e59c-4b86-bcb2-b40603be16ee",
   "metadata": {},
   "outputs": [
    {
     "data": {
      "text/html": [
       "<div>\n",
       "<style scoped>\n",
       "    .dataframe tbody tr th:only-of-type {\n",
       "        vertical-align: middle;\n",
       "    }\n",
       "\n",
       "    .dataframe tbody tr th {\n",
       "        vertical-align: top;\n",
       "    }\n",
       "\n",
       "    .dataframe thead th {\n",
       "        text-align: right;\n",
       "    }\n",
       "</style>\n",
       "<table border=\"1\" class=\"dataframe\">\n",
       "  <thead>\n",
       "    <tr style=\"text-align: right;\">\n",
       "      <th></th>\n",
       "      <th>phone_number</th>\n",
       "      <th>first_name</th>\n",
       "      <th>last_name</th>\n",
       "      <th>country</th>\n",
       "      <th>sales_contact_code</th>\n",
       "    </tr>\n",
       "  </thead>\n",
       "  <tbody>\n",
       "    <tr>\n",
       "      <th>0</th>\n",
       "      <td>250766666657</td>\n",
       "      <td>Anita</td>\n",
       "      <td>Ruiz</td>\n",
       "      <td>Canada</td>\n",
       "      <td>3</td>\n",
       "    </tr>\n",
       "    <tr>\n",
       "      <th>1</th>\n",
       "      <td>250766666656</td>\n",
       "      <td>Kimberly</td>\n",
       "      <td>Taylor</td>\n",
       "      <td>United Kingdom</td>\n",
       "      <td>3</td>\n",
       "    </tr>\n",
       "  </tbody>\n",
       "</table>\n",
       "</div>"
      ],
      "text/plain": [
       "   phone_number first_name last_name         country  sales_contact_code\n",
       "0  250766666657      Anita      Ruiz          Canada                   3\n",
       "1  250766666656   Kimberly    Taylor  United Kingdom                   3"
      ]
     },
     "execution_count": 17,
     "metadata": {},
     "output_type": "execute_result"
    }
   ],
   "source": [
    "run_query(\"SELECT * FROM Customers LIMIT 2\")"
   ]
  },
  {
   "cell_type": "code",
   "execution_count": 18,
   "id": "a66d0805-f7d2-43d2-8879-71924c241825",
   "metadata": {},
   "outputs": [
    {
     "data": {
      "text/html": [
       "<div>\n",
       "<style scoped>\n",
       "    .dataframe tbody tr th:only-of-type {\n",
       "        vertical-align: middle;\n",
       "    }\n",
       "\n",
       "    .dataframe tbody tr th {\n",
       "        vertical-align: top;\n",
       "    }\n",
       "\n",
       "    .dataframe thead th {\n",
       "        text-align: right;\n",
       "    }\n",
       "</style>\n",
       "<table border=\"1\" class=\"dataframe\">\n",
       "  <thead>\n",
       "    <tr style=\"text-align: right;\">\n",
       "      <th></th>\n",
       "      <th>product_number</th>\n",
       "      <th>product_name</th>\n",
       "      <th>unit_price</th>\n",
       "    </tr>\n",
       "  </thead>\n",
       "  <tbody>\n",
       "    <tr>\n",
       "      <th>0</th>\n",
       "      <td>1</td>\n",
       "      <td>External Hard Drive</td>\n",
       "      <td>99</td>\n",
       "    </tr>\n",
       "    <tr>\n",
       "      <th>1</th>\n",
       "      <td>2</td>\n",
       "      <td>Portable Bluetooth Speaker</td>\n",
       "      <td>99</td>\n",
       "    </tr>\n",
       "  </tbody>\n",
       "</table>\n",
       "</div>"
      ],
      "text/plain": [
       "   product_number                product_name  unit_price\n",
       "0               1         External Hard Drive          99\n",
       "1               2  Portable Bluetooth Speaker          99"
      ]
     },
     "execution_count": 18,
     "metadata": {},
     "output_type": "execute_result"
    }
   ],
   "source": [
    "run_query(\"SELECT * FROM Products LIMIT 2\")"
   ]
  },
  {
   "cell_type": "code",
   "execution_count": null,
   "id": "d0422270-23b6-4c25-bfeb-1a854e43d175",
   "metadata": {},
   "outputs": [],
   "source": [
    "## Question3: Employees and their Supervisors\n",
    "##### Now that the tables are created and files are loaded into the database, kindly provide a list of all employees and their respective line managers in the format below.\n",
    "\n",
    "|EMPLOYEE FULL NAME|EMPLOYEE TITLE|MANAGER FULL NAME|MANAGER TITLE|\n",
    "|---|---|---|---|\n",
    "|---|---|---|---|"
   ]
  },
  {
   "cell_type": "code",
   "execution_count": 26,
   "id": "3174fa66-57f7-49fd-922c-c3cb0606a89d",
   "metadata": {},
   "outputs": [
    {
     "data": {
      "text/html": [
       "<div>\n",
       "<style scoped>\n",
       "    .dataframe tbody tr th:only-of-type {\n",
       "        vertical-align: middle;\n",
       "    }\n",
       "\n",
       "    .dataframe tbody tr th {\n",
       "        vertical-align: top;\n",
       "    }\n",
       "\n",
       "    .dataframe thead th {\n",
       "        text-align: right;\n",
       "    }\n",
       "</style>\n",
       "<table border=\"1\" class=\"dataframe\">\n",
       "  <thead>\n",
       "    <tr style=\"text-align: right;\">\n",
       "      <th></th>\n",
       "      <th>employee_full_name</th>\n",
       "      <th>employee_title</th>\n",
       "      <th>manager_full_name</th>\n",
       "      <th>manager_title</th>\n",
       "    </tr>\n",
       "  </thead>\n",
       "  <tbody>\n",
       "    <tr>\n",
       "      <th>0</th>\n",
       "      <td>Shannon Ross</td>\n",
       "      <td>General Manager</td>\n",
       "      <td>None</td>\n",
       "      <td>None</td>\n",
       "    </tr>\n",
       "    <tr>\n",
       "      <th>1</th>\n",
       "      <td>Mark Griffin</td>\n",
       "      <td>Sales Manager</td>\n",
       "      <td>None</td>\n",
       "      <td>None</td>\n",
       "    </tr>\n",
       "    <tr>\n",
       "      <th>2</th>\n",
       "      <td>Patricia Estrada</td>\n",
       "      <td>Sales Officer</td>\n",
       "      <td>None</td>\n",
       "      <td>None</td>\n",
       "    </tr>\n",
       "    <tr>\n",
       "      <th>3</th>\n",
       "      <td>Alicia West</td>\n",
       "      <td>Sales Officer</td>\n",
       "      <td>None</td>\n",
       "      <td>None</td>\n",
       "    </tr>\n",
       "    <tr>\n",
       "      <th>4</th>\n",
       "      <td>Cassidy Petersen</td>\n",
       "      <td>Sales Officer</td>\n",
       "      <td>None</td>\n",
       "      <td>None</td>\n",
       "    </tr>\n",
       "  </tbody>\n",
       "</table>\n",
       "</div>"
      ],
      "text/plain": [
       "  employee_full_name   employee_title manager_full_name manager_title\n",
       "0       Shannon Ross  General Manager              None          None\n",
       "1       Mark Griffin    Sales Manager              None          None\n",
       "2   Patricia Estrada    Sales Officer              None          None\n",
       "3        Alicia West    Sales Officer              None          None\n",
       "4   Cassidy Petersen    Sales Officer              None          None"
      ]
     },
     "execution_count": 26,
     "metadata": {},
     "output_type": "execute_result"
    }
   ],
   "source": [
    "query = '''\n",
    "SELECT \n",
    "    emp.first_name || ' ' || emp.last_name AS employee_full_name,\n",
    "    emp.title AS employee_title,\n",
    "    mgr.first_name || ' ' || mgr.last_name AS manager_full_name,\n",
    "    mgr.title AS manager_title\n",
    "FROM \n",
    "    Employees AS emp\n",
    "LEFT JOIN \n",
    "    Employees AS mgr ON emp.manager_id = mgr.employee_id;\n",
    "'''\n",
    "\n",
    "# Run the query and fetch the results\n",
    "employee_manager_df = run_query(query)\n",
    "employee_manager_df.head(5)\n"
   ]
  },
  {
   "cell_type": "markdown",
   "id": "308c3749-a718-4386-9abe-7db026412fab",
   "metadata": {},
   "source": [
    "## Question 4: Employees Performance\n",
    "##### Each customer is assigned to a sales officer, provide a query that would help to analyze if any sales officer is performing either better or worse than the others. Also shows the resulted table."
   ]
  },
  {
   "cell_type": "code",
   "execution_count": 31,
   "id": "0b23add5-d687-43c4-8c33-cb0057aef553",
   "metadata": {},
   "outputs": [
    {
     "data": {
      "text/html": [
       "<div>\n",
       "<style scoped>\n",
       "    .dataframe tbody tr th:only-of-type {\n",
       "        vertical-align: middle;\n",
       "    }\n",
       "\n",
       "    .dataframe tbody tr th {\n",
       "        vertical-align: top;\n",
       "    }\n",
       "\n",
       "    .dataframe thead th {\n",
       "        text-align: right;\n",
       "    }\n",
       "</style>\n",
       "<table border=\"1\" class=\"dataframe\">\n",
       "  <thead>\n",
       "    <tr style=\"text-align: right;\">\n",
       "      <th></th>\n",
       "      <th>sales_officer_full_name</th>\n",
       "      <th>sales_officer_title</th>\n",
       "      <th>sales_officer_title</th>\n",
       "      <th>number_of_customers</th>\n",
       "      <th>total_sales</th>\n",
       "    </tr>\n",
       "  </thead>\n",
       "  <tbody>\n",
       "    <tr>\n",
       "      <th>0</th>\n",
       "      <td>Patricia Estrada</td>\n",
       "      <td>Sales Officer</td>\n",
       "      <td>Sales Officer</td>\n",
       "      <td>3</td>\n",
       "      <td>25839.0</td>\n",
       "    </tr>\n",
       "    <tr>\n",
       "      <th>1</th>\n",
       "      <td>Alicia West</td>\n",
       "      <td>Sales Officer</td>\n",
       "      <td>Sales Officer</td>\n",
       "      <td>3</td>\n",
       "      <td>24453.0</td>\n",
       "    </tr>\n",
       "    <tr>\n",
       "      <th>2</th>\n",
       "      <td>Cassidy Petersen</td>\n",
       "      <td>Sales Officer</td>\n",
       "      <td>Sales Officer</td>\n",
       "      <td>1</td>\n",
       "      <td>7029.0</td>\n",
       "    </tr>\n",
       "  </tbody>\n",
       "</table>\n",
       "</div>"
      ],
      "text/plain": [
       "  sales_officer_full_name sales_officer_title sales_officer_title  \\\n",
       "0        Patricia Estrada       Sales Officer       Sales Officer   \n",
       "1             Alicia West       Sales Officer       Sales Officer   \n",
       "2        Cassidy Petersen       Sales Officer       Sales Officer   \n",
       "\n",
       "   number_of_customers  total_sales  \n",
       "0                    3      25839.0  \n",
       "1                    3      24453.0  \n",
       "2                    1       7029.0  "
      ]
     },
     "execution_count": 31,
     "metadata": {},
     "output_type": "execute_result"
    }
   ],
   "source": [
    "query = '''\n",
    "SELECT \n",
    "    e.first_name || ' ' || e.last_name AS sales_officer_full_name,e.title AS sales_officer_title,\n",
    "    e.title AS sales_officer_title,\n",
    "    COUNT(DISTINCT c.phone_number) AS number_of_customers,\n",
    "    SUM(i.total) AS total_sales\n",
    "FROM \n",
    "    Customers AS c\n",
    "JOIN \n",
    "    Employees AS e ON c.sales_contact_code = e.employee_id\n",
    "JOIN \n",
    "    Invoices AS i ON c.phone_number = i.billing_phone\n",
    "WHERE \n",
    "    c.country LIKE 'Canada%'  -- Filter by country, e.g., \"Canada\"\n",
    "GROUP BY \n",
    "    e.employee_id\n",
    "HAVING \n",
    "    SUM(i.total) > 5000  -- Only include sales officers with total sales > 5000\n",
    "ORDER BY \n",
    "    total_sales DESC;\n",
    "'''\n",
    "\n",
    "# Run the query and fetch the results\n",
    "sales_performance_df = run_query(query)\n",
    "sales_performance_df.head()\n"
   ]
  },
  {
   "cell_type": "markdown",
   "id": "eb496615-4589-4867-8cc8-718d479b48cc",
   "metadata": {},
   "source": [
    "## Question 5: Products Performance\n",
    "##### The Marketing Team has hired a Data Analyst Intern who will need to regularly report on the sales performance of various products to facilitate increased advertising or recommend discounts. Create a view that shows the total quantity and amount for each product that the intern will query. Display the results."
   ]
  },
  {
   "cell_type": "code",
   "execution_count": 38,
   "id": "946c42e1-d99d-41d7-b433-64eaed139de7",
   "metadata": {},
   "outputs": [
    {
     "name": "stdout",
     "output_type": "stream",
     "text": [
      "✔️ SUCCESS\n"
     ]
    },
    {
     "data": {
      "text/html": [
       "<div>\n",
       "<style scoped>\n",
       "    .dataframe tbody tr th:only-of-type {\n",
       "        vertical-align: middle;\n",
       "    }\n",
       "\n",
       "    .dataframe tbody tr th {\n",
       "        vertical-align: top;\n",
       "    }\n",
       "\n",
       "    .dataframe thead th {\n",
       "        text-align: right;\n",
       "    }\n",
       "</style>\n",
       "<table border=\"1\" class=\"dataframe\">\n",
       "  <thead>\n",
       "    <tr style=\"text-align: right;\">\n",
       "      <th></th>\n",
       "      <th>product_name</th>\n",
       "      <th>total_quantity_sold</th>\n",
       "      <th>total_amount_generated</th>\n",
       "    </tr>\n",
       "  </thead>\n",
       "  <tbody>\n",
       "    <tr>\n",
       "      <th>0</th>\n",
       "      <td>External Hard Drive</td>\n",
       "      <td>252</td>\n",
       "      <td>24948</td>\n",
       "    </tr>\n",
       "    <tr>\n",
       "      <th>1</th>\n",
       "      <td>Flash Drive</td>\n",
       "      <td>265</td>\n",
       "      <td>26235</td>\n",
       "    </tr>\n",
       "    <tr>\n",
       "      <th>2</th>\n",
       "      <td>Laptop Stand</td>\n",
       "      <td>271</td>\n",
       "      <td>26829</td>\n",
       "    </tr>\n",
       "    <tr>\n",
       "      <th>3</th>\n",
       "      <td>Portable Bluetooth Speaker</td>\n",
       "      <td>267</td>\n",
       "      <td>26433</td>\n",
       "    </tr>\n",
       "    <tr>\n",
       "      <th>4</th>\n",
       "      <td>Power Bank</td>\n",
       "      <td>262</td>\n",
       "      <td>25938</td>\n",
       "    </tr>\n",
       "  </tbody>\n",
       "</table>\n",
       "</div>"
      ],
      "text/plain": [
       "                 product_name  total_quantity_sold  total_amount_generated\n",
       "0         External Hard Drive                  252                   24948\n",
       "1                 Flash Drive                  265                   26235\n",
       "2                Laptop Stand                  271                   26829\n",
       "3  Portable Bluetooth Speaker                  267                   26433\n",
       "4                  Power Bank                  262                   25938"
      ]
     },
     "execution_count": 38,
     "metadata": {},
     "output_type": "execute_result"
    }
   ],
   "source": [
    "# SQL query to create the Product_Performance view\n",
    "create_view_query = '''\n",
    "CREATE VIEW IF NOT EXISTS Product_Performance AS\n",
    "SELECT \n",
    "    p.product_name,\n",
    "    SUM(i.quantity) AS total_quantity_sold,\n",
    "    SUM(i.quantity * p.unit_price) AS total_amount_generated\n",
    "FROM \n",
    "    Invoice_Items AS i\n",
    "LEFT JOIN \n",
    "    Products AS p ON i.product_code = p.product_number\n",
    "GROUP BY \n",
    "    p.product_name\n",
    "ORDER BY \n",
    "    total_sales_amount DESC;\n",
    "'''\n",
    "\n",
    "# Execute the query to create the view\n",
    "run_command(create_view_query)\n",
    "\n",
    "# Query to select data from the view\n",
    "query = '''\n",
    "SELECT * FROM Product_Performance;\n",
    "'''\n",
    "\n",
    "# Run the query and fetch the results\n",
    "product_performance_df = run_query(query)\n",
    "product_performance_df.head()\n"
   ]
  },
  {
   "cell_type": "code",
   "execution_count": null,
   "id": "1904449b-5f8f-4db5-99eb-8a3a0543c4ba",
   "metadata": {},
   "outputs": [],
   "source": []
  }
 ],
 "metadata": {
  "kernelspec": {
   "display_name": "Python 3 (ipykernel)",
   "language": "python",
   "name": "python3"
  },
  "language_info": {
   "codemirror_mode": {
    "name": "ipython",
    "version": 3
   },
   "file_extension": ".py",
   "mimetype": "text/x-python",
   "name": "python",
   "nbconvert_exporter": "python",
   "pygments_lexer": "ipython3",
   "version": "3.12.4"
  }
 },
 "nbformat": 4,
 "nbformat_minor": 5
}
